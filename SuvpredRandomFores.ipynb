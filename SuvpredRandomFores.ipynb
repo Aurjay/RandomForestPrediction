{
  "nbformat": 4,
  "nbformat_minor": 0,
  "metadata": {
    "colab": {
      "name": "SuvpredRandomFores.ipynb",
      "provenance": []
    },
    "kernelspec": {
      "name": "python3",
      "display_name": "Python 3"
    }
  },
  "cells": [
    {
      "cell_type": "markdown",
      "metadata": {
        "id": "AV727JdjKBRe"
      },
      "source": [
        "**We use random forest classifer to determine the sale of SUV cars depending on the factors like age,gender and salary.**\r\n",
        "\r\n",
        "---\r\n",
        "\r\n",
        "Dataset is taken from the website: https://www.kaggle.com/iamaniket/suv-data\r\n"
      ]
    },
    {
      "cell_type": "markdown",
      "metadata": {
        "id": "NZJ3kY6EK6qt"
      },
      "source": [
        "**Step 1 :** Importing the dataset and assigning dependent and independent variable."
      ]
    },
    {
      "cell_type": "code",
      "metadata": {
        "colab": {
          "base_uri": "https://localhost:8080/"
        },
        "id": "PJnKPMMRIlhg",
        "outputId": "1f0e56f4-1b25-43ea-f7ab-02bab5f6e0b6"
      },
      "source": [
        "import pandas as pd\r\n",
        "dataset = pd.read_csv(\"/content/suv_data.csv\")\r\n",
        "x = dataset.iloc[:,:-1].values\r\n",
        "y = dataset.iloc[:, 3].values\r\n",
        "print(\"X\",x)\r\n",
        "print(\"Y\",y)"
      ],
      "execution_count": 3,
      "outputs": [
        {
          "output_type": "stream",
          "text": [
            "X [['Male' 19 19000]\n",
            " ['Male' 35 20000]\n",
            " ['Female' 26 43000]\n",
            " ...\n",
            " ['Female' 50 20000]\n",
            " ['Male' 36 33000]\n",
            " ['Female' 49 36000]]\n",
            "Y [0 0 0 0 0 0 0 1 0 0 0 0 0 0 0 0 1 1 1 1 1 1 1 1 1 1 1 1 0 0 0 1 0 0 0 0 0\n",
            " 0 0 0 0 0 0 0 0 0 0 0 1 0 0 0 0 0 0 0 0 0 0 0 0 0 0 1 0 0 0 0 0 0 0 0 0 0\n",
            " 0 1 0 0 0 0 0 0 0 0 0 1 0 0 0 0 0 0 0 0 0 0 0 1 0 0 0 0 0 1 0 0 0 0 0 0 0\n",
            " 0 0 0 0 0 0 0 0 0 0 0 0 0 0 0 0 0 0 0 0 0 0 0 0 0 0 1 0 0 0 0 0 0 0 0 1 0\n",
            " 0 0 0 0 0 0 0 0 0 0 0 1 1 0 0 0 0 0 0 0 1 0 0 0 0 0 0 0 0 0 0 0 0 0 1 0 0\n",
            " 0 0 0 0 0 0 0 0 0 0 0 0 0 0 0 0 0 1 0 1 0 1 0 1 0 1 1 0 0 0 1 0 0 0 1 0 1\n",
            " 1 1 0 0 1 1 0 1 1 0 1 1 0 1 0 0 0 1 1 0 1 1 0 1 0 1 0 1 0 0 1 1 0 1 0 0 1\n",
            " 1 0 1 1 0 1 1 0 0 1 0 0 1 1 1 1 1 0 1 1 1 1 0 1 1 0 1 0 1 0 1 1 1 1 0 0 0\n",
            " 1 1 0 1 1 1 1 1 0 0 0 1 1 0 0 1 0 1 0 1 1 0 1 0 1 1 0 1 1 0 0 0 1 1 0 1 0\n",
            " 0 1 0 1 0 0 1 1 0 0 1 1 0 1 1 0 0 1 0 1 0 1 1 1 0 1 0 1 1 1 0 1 1 1 1 0 1\n",
            " 1 1 0 1 0 1 0 0 1 1 0 1 1 1 1 1 1 0 1 1 1 1 1 1 0 1 1 1 0 1]\n"
          ],
          "name": "stdout"
        }
      ]
    },
    {
      "cell_type": "markdown",
      "metadata": {
        "id": "GOQZ2f90K49A"
      },
      "source": [
        "**Step 2 :** label Encoding for gender(0 or 1)"
      ]
    },
    {
      "cell_type": "code",
      "metadata": {
        "colab": {
          "base_uri": "https://localhost:8080/"
        },
        "id": "HQorIf5iJEvW",
        "outputId": "3eabcb06-648f-474e-cb66-7af7da4c3e2b"
      },
      "source": [
        "from sklearn.preprocessing import LabelEncoder\r\n",
        "gender_encoder =  LabelEncoder()\r\n",
        "x[:,0] =gender_encoder.fit_transform(x[:,0])\r\n",
        "print(\"Encoded gender column:\",x)"
      ],
      "execution_count": 6,
      "outputs": [
        {
          "output_type": "stream",
          "text": [
            "Encoded gender column: [[1 19 19000]\n",
            " [1 35 20000]\n",
            " [0 26 43000]\n",
            " ...\n",
            " [0 50 20000]\n",
            " [1 36 33000]\n",
            " [0 49 36000]]\n"
          ],
          "name": "stdout"
        }
      ]
    },
    {
      "cell_type": "markdown",
      "metadata": {
        "id": "5BMWwDivLLWW"
      },
      "source": [
        "**Step 3** : Spliting the dataset into train and test dataset."
      ]
    },
    {
      "cell_type": "code",
      "metadata": {
        "id": "zfnPW6IzJa2d"
      },
      "source": [
        "from sklearn.model_selection import train_test_split\r\n",
        "X_train, X_test, y_train, y_test = train_test_split(x, y, test_size=0.20, random_state=0)"
      ],
      "execution_count": 12,
      "outputs": []
    },
    {
      "cell_type": "markdown",
      "metadata": {
        "id": "q6a3ySiWLTwT"
      },
      "source": [
        "**Step 4 :** Importing the RandomForestClassifier from sklearn and fit the train dataset split."
      ]
    },
    {
      "cell_type": "code",
      "metadata": {
        "id": "S4vjc0MhJybk"
      },
      "source": [
        "from sklearn.ensemble import RandomForestClassifier\r\n",
        "classifier = RandomForestClassifier(n_estimators=100, criterion=\"entropy\", random_state=0)\r\n",
        "classifier.fit(X_train, y_train)\r\n",
        "y_pred = classifier.predict(X_test)"
      ],
      "execution_count": 13,
      "outputs": []
    },
    {
      "cell_type": "markdown",
      "metadata": {
        "id": "L93EFhx5MDor"
      },
      "source": [
        "**Step 5**: Calculating the appropriate metrics like accuracy,precision and recall."
      ]
    },
    {
      "cell_type": "code",
      "metadata": {
        "colab": {
          "base_uri": "https://localhost:8080/"
        },
        "id": "-ntl39olJ4Fn",
        "outputId": "f8911dd0-b0b8-4821-9c58-12713b1a67aa"
      },
      "source": [
        "from sklearn import metrics\r\n",
        "cm = metrics.confusion_matrix(y_test, y_pred) \r\n",
        "print(cm)\r\n",
        "accuracy = metrics.accuracy_score(y_test, y_pred) \r\n",
        "print(\"Accuracy score:\",accuracy)\r\n",
        "precision = metrics.precision_score(y_test, y_pred) \r\n",
        "print(\"Precision score:\",precision)\r\n",
        "recall = metrics.recall_score(y_test, y_pred) \r\n",
        "print(\"Recall score:\",recall)"
      ],
      "execution_count": 14,
      "outputs": [
        {
          "output_type": "stream",
          "text": [
            "[[54  4]\n",
            " [ 3 19]]\n",
            "Accuracy score: 0.9125\n",
            "Precision score: 0.8260869565217391\n",
            "Recall score: 0.8636363636363636\n"
          ],
          "name": "stdout"
        }
      ]
    },
    {
      "cell_type": "code",
      "metadata": {
        "id": "343YrThDSKb-"
      },
      "source": [
        ""
      ],
      "execution_count": null,
      "outputs": []
    }
  ]
}